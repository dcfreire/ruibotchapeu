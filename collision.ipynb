{
 "cells": [
  {
   "cell_type": "code",
   "execution_count": 1,
   "source": [
    "from detector.collision import check_collision\n",
    "from detector.table import Table\n",
    "import numpy as np\n",
    "import cv2"
   ],
   "outputs": [],
   "metadata": {}
  },
  {
   "cell_type": "code",
   "execution_count": 75,
   "source": [
    "table = Table('judd.webm')"
   ],
   "outputs": [],
   "metadata": {}
  },
  {
   "cell_type": "code",
   "execution_count": 147,
   "source": [
    "table = Table('judd.webm')\n",
    "i=0\n",
    "coll_num = 0\n",
    "while True:\n",
    "    ret, frame = table.cap.read()\n",
    "    if not ret:\n",
    "        break\n",
    "    frame = cv2.warpPerspective(frame, table.homography, table.size)\n",
    "    out = frame.copy()\n",
    "    mask = table._get_cloth_mask(frame)\n",
    "\n",
    "    ctrs = table._get_ball_contours(mask)\n",
    "    cv2.drawContours(out, ctrs, -1, (255,0,0), 2)\n",
    "    ctr_colors = [-1]\n",
    "    for idx, c in enumerate(ctrs):\n",
    "        font = cv2.FONT_HERSHEY_SIMPLEX\n",
    "        color = table.get_common_color(frame, c)\n",
    "        color_name = table.predict_color(color)\n",
    "        ctr_colors.append(color_name)\n",
    "        \n",
    "        if color_name == 'White':\n",
    "            ctrs[0], ctrs[idx] = ctrs[idx], ctrs[0]\n",
    "            ctr_colors.pop()\n",
    "            ctr_colors[0] = color_name\n",
    "\n",
    "        x, y, w, z = cv2.boundingRect(c)\n",
    "        x -= 6\n",
    "        y -= 6\n",
    "        w += 10\n",
    "        z += 10\n",
    "        cv2.putText(out, f'{color_name}' , (x, y-5), font, 0.5, (int(color[0]), int(color[1]), int(color[2])), 2, cv2.LINE_AA)\n",
    "        cv2.rectangle(out, (x, y), (x + w, y + z), (int(color[0]), int(color[1]), int(color[2])), 2)\n",
    "    #print(ctr_colors)\n",
    "    collision, col_idx = check_col(ctrs, ctr_colors)\n",
    "    if collision:\n",
    "        print(col_idx)\n",
    "        print(ctr_colors[0], ctr_colors[col_idx[0]])\n",
    "        coll_num += 1\n",
    "        cont = ctrs[0]\n",
    "        M = cv2.moments(cont)\n",
    "        cx = int(M['m10']/M['m00'])\n",
    "        cy = int(M['m01']/M['m00'])\n",
    "        print('TRUE')\n",
    "        cv2.putText(out, 'TEI!',(cx-100,cy-100), cv2.FONT_HERSHEY_SIMPLEX, 2, (0,0,255), 5, cv2.LINE_AA)\n",
    "    cv2.putText(out, '#Collisions: {}'.format(coll_num),(130,50), cv2.FONT_HERSHEY_SIMPLEX, 1, (255,255,255), 3, cv2.LINE_AA)\n",
    "\n",
    "     #frames.append(out)\n",
    "    cv2.imshow(\"RuiBot\", mask)\n",
    "    i += 1\n",
    "    \n",
    "    if cv2.waitKey(1) & 0xFF == ord(\"q\"):\n",
    "        break\n",
    "\n",
    "table.cap.release()\n",
    "cv2.destroyAllWindows()"
   ],
   "outputs": [],
   "metadata": {}
  },
  {
   "cell_type": "code",
   "execution_count": 101,
   "source": [
    "def check_col(contours):\n",
    "    collision = False\n",
    "    i=0\n",
    "    col_dir = []\n",
    "    col_pos = []\n",
    "    if len(contours)>1:\n",
    "        white = np.array(contours[0])\n",
    "        for idx, ctr in enumerate(contours[1::]):\n",
    "            colors = ctr.copy()\n",
    "            #print(colors.shape, white.shape)\n",
    "            # Squared difference between contours coordinates\n",
    "            srdq = (white[:, None, :] - colors)**2\n",
    "            # Euclidean distance between every white ball and colored balls contour points\n",
    "            distances = np.sqrt(np.sum(srdq, axis=3))\n",
    "            #print(distances.shape, white.shape, colors.shape)\n",
    "            dist_min = 60\n",
    "            if (distances < dist_min).any():\n",
    "                #if (np.nonzero((distances < 20))[0].size) == 0:\n",
    "                #    print(distances)\n",
    "                col_pos.append(white[np.nonzero((distances < dist_min))[0][0]])\n",
    "                M = cv2.moments(white)\n",
    "                cx_white = int(M['m10']/M['m00'])\n",
    "                cy_white = int(M['m01']/M['m00'])\n",
    "                Mc = cv2.moments(colors)\n",
    "                cx_color = int(Mc['m10']/Mc['m00'])\n",
    "                cy_color = int(Mc['m01']/Mc['m00'])\n",
    "                direction = np.array([cx_white - cx_color, cy_white - cy_color])\n",
    "                #print(direction)\n",
    "                direction = direction / np.linalg.norm(direction)\n",
    "                #print(contour_colors[idx+1])\n",
    "                col_dir.append(direction)\n",
    "                collision = True\n",
    "                #print(i)\n",
    "        i+=1\n",
    "    return (collision, col_dir, col_pos)"
   ],
   "outputs": [],
   "metadata": {}
  },
  {
   "cell_type": "code",
   "execution_count": 4,
   "source": [
    "cv2.destroyAllWindows()"
   ],
   "outputs": [],
   "metadata": {}
  },
  {
   "cell_type": "code",
   "execution_count": 9,
   "source": [
    "\"\"\"\n",
    "COLLISION DETECTOR (WITH PLACEHOLDER TRACKER) TESTING WITH MASK\n",
    "\n",
    "\"\"\"\n",
    "from detector import Table\n",
    "from tracker.placeholder_tracker import Tracker\n",
    "from detector.collision import check_collision\n",
    "table = Table('./judd.webm')\n",
    "homography = table.homography\n",
    "size = table.size\n",
    "ccc = []\n",
    "\n",
    "frames_vid = []\n",
    "lists = []\n",
    "ret, frame = table.cap.read()\n",
    "frame = cv2.warpPerspective(frame, homography, size[:2])\n",
    "mask = table._get_cloth_mask(frame)\n",
    "#mask =  cv2.blur(mask,(2,2))\n",
    "frame = cv2.bitwise_and(frame,frame, mask=mask)\n",
    "ret2, frame2 = table.cap.read()\n",
    "frame2 = cv2.warpPerspective(frame2, homography, size[:2])\n",
    "mask = table._get_cloth_mask(frame2)\n",
    "#mask =  cv2.blur(mask,(2,2))\n",
    "frame2 = cv2.bitwise_and(frame2,frame2, mask=mask)\n",
    "coll_num = 0\n",
    "while table.cap.isOpened():\n",
    "    if not ret2:\n",
    "        break\n",
    "    tracker = Tracker()\n",
    "    tracker.track(frame, frame2, ycrcb = True)\n",
    "    contours = tracker.contours\n",
    "    ccc.append(contours)\n",
    "    cv2.drawContours(frame, contours, -1, (255,0,0), 2)\n",
    "    lists.append(frame)\n",
    "    collision, col_idx, col_pos = check_col(contours)\n",
    "    if collision:\n",
    "        coll_num += 1\n",
    "        cont = contours[0]\n",
    "        M = cv2.moments(cont)\n",
    "        cx = int(M['m10']/M['m00'])\n",
    "        cy = int(M['m01']/M['m00'])\n",
    "        print('TRUE')\n",
    "        cv2.putText(frame, 'TEI!',(cx-100,cy-100), cv2.FONT_HERSHEY_SIMPLEX, 2, (0,0,255), 5, cv2.LINE_AA)\n",
    "        #cv2.putText(frame, 'TEI!',(100,160), cv2.FONT_HERSHEY_SIMPLEX, 2, (0,0,255), 5, cv2.LINE_AA)\n",
    "    cv2.putText(frame, '#Collisions: {}'.format(coll_num),(130,50), cv2.FONT_HERSHEY_SIMPLEX, 1, (255,255,255), 3, cv2.LINE_AA)\n",
    "    cv2.namedWindow('frame')\n",
    "    cv2.imshow('frame', frame)\n",
    "    frame = frame2\n",
    "    ret2, frame2 = table.cap.read()\n",
    "    frame2 = cv2.warpPerspective(frame2, homography, size[:2])\n",
    "    mask = table._get_cloth_mask(frame2)\n",
    "    #mask =  cv2.blur(mask,(2,2))\n",
    "    frame2 = cv2.bitwise_and(frame2,frame2, mask=mask)\n",
    "    #frames_vid.append(frame2)\n",
    "    #if ret2 is not None:\n",
    "    #frame2 = cv2.warpPerspective(frame2, homography, size[:2])\n",
    "\n",
    "    key = cv2.waitKey(1)\n",
    "    if key == 27:\n",
    "        break\n",
    "cv2.destroyAllWindows()"
   ],
   "outputs": [
    {
     "output_type": "stream",
     "name": "stdout",
     "text": [
      "TRUE\n",
      "TRUE\n",
      "TRUE\n",
      "TRUE\n",
      "TRUE\n",
      "TRUE\n",
      "TRUE\n",
      "TRUE\n",
      "TRUE\n",
      "TRUE\n",
      "TRUE\n"
     ]
    },
    {
     "output_type": "error",
     "ename": "error",
     "evalue": "OpenCV(4.5.3) /build/opencv/src/opencv-4.5.3/modules/imgproc/src/imgwarp.cpp:3144: error: (-215:Assertion failed) _src.total() > 0 in function 'warpPerspective'\n",
     "traceback": [
      "\u001b[0;31m---------------------------------------------------------------------------\u001b[0m",
      "\u001b[0;31merror\u001b[0m                                     Traceback (most recent call last)",
      "\u001b[0;32m/tmp/ipykernel_11666/4069513528.py\u001b[0m in \u001b[0;36m<module>\u001b[0;34m\u001b[0m\n\u001b[1;32m     48\u001b[0m     \u001b[0mframe\u001b[0m \u001b[0;34m=\u001b[0m \u001b[0mframe2\u001b[0m\u001b[0;34m\u001b[0m\u001b[0;34m\u001b[0m\u001b[0m\n\u001b[1;32m     49\u001b[0m     \u001b[0mret2\u001b[0m\u001b[0;34m,\u001b[0m \u001b[0mframe2\u001b[0m \u001b[0;34m=\u001b[0m \u001b[0mtable\u001b[0m\u001b[0;34m.\u001b[0m\u001b[0mcap\u001b[0m\u001b[0;34m.\u001b[0m\u001b[0mread\u001b[0m\u001b[0;34m(\u001b[0m\u001b[0;34m)\u001b[0m\u001b[0;34m\u001b[0m\u001b[0;34m\u001b[0m\u001b[0m\n\u001b[0;32m---> 50\u001b[0;31m     \u001b[0mframe2\u001b[0m \u001b[0;34m=\u001b[0m \u001b[0mcv2\u001b[0m\u001b[0;34m.\u001b[0m\u001b[0mwarpPerspective\u001b[0m\u001b[0;34m(\u001b[0m\u001b[0mframe2\u001b[0m\u001b[0;34m,\u001b[0m \u001b[0mhomography\u001b[0m\u001b[0;34m,\u001b[0m \u001b[0msize\u001b[0m\u001b[0;34m[\u001b[0m\u001b[0;34m:\u001b[0m\u001b[0;36m2\u001b[0m\u001b[0;34m]\u001b[0m\u001b[0;34m)\u001b[0m\u001b[0;34m\u001b[0m\u001b[0;34m\u001b[0m\u001b[0m\n\u001b[0m\u001b[1;32m     51\u001b[0m     \u001b[0mmask\u001b[0m \u001b[0;34m=\u001b[0m \u001b[0mtable\u001b[0m\u001b[0;34m.\u001b[0m\u001b[0m_get_cloth_mask\u001b[0m\u001b[0;34m(\u001b[0m\u001b[0mframe2\u001b[0m\u001b[0;34m)\u001b[0m\u001b[0;34m\u001b[0m\u001b[0;34m\u001b[0m\u001b[0m\n\u001b[1;32m     52\u001b[0m     \u001b[0;31m#mask =  cv2.blur(mask,(2,2))\u001b[0m\u001b[0;34m\u001b[0m\u001b[0;34m\u001b[0m\u001b[0;34m\u001b[0m\u001b[0m\n",
      "\u001b[0;31merror\u001b[0m: OpenCV(4.5.3) /build/opencv/src/opencv-4.5.3/modules/imgproc/src/imgwarp.cpp:3144: error: (-215:Assertion failed) _src.total() > 0 in function 'warpPerspective'\n"
     ]
    }
   ],
   "metadata": {}
  },
  {
   "cell_type": "code",
   "execution_count": 127,
   "source": [
    "\"\"\"\n",
    "COLLISION DETECTOR (WITH PLACEHOLDER TRACKER) TESTING WITHOUT MASK\n",
    "\n",
    "\"\"\"\n",
    "from detector import Table\n",
    "from tracker.placeholder_tracker import Tracker\n",
    "from detector.collision import check_collision\n",
    "table = Table('./judd.webm')\n",
    "homography = table.homography\n",
    "size = table.size\n",
    "ccc = []\n",
    "\n",
    "frames_vid = []\n",
    "lists = []\n",
    "ret, frame = table.cap.read()\n",
    "frame = cv2.warpPerspective(frame, homography, size[:2])\n",
    "#mask = table._get_cloth_mask(frame)\n",
    "#mask =  cv2.blur(mask,(2,2))\n",
    "#frame = cv2.bitwise_and(frame,frame, mask=mask)\n",
    "ret2, frame2 = table.cap.read()\n",
    "frame2 = cv2.warpPerspective(frame2, homography, size[:2])\n",
    "#mask = table._get_cloth_mask(frame2)\n",
    "#mask =  cv2.blur(mask,(2,2))\n",
    "#frame2 = cv2.bitwise_and(frame2,frame2, mask=mask)\n",
    "first_frame = frame.copy()\n",
    "coll_num = 0\n",
    "mask_collision = np.zeros_like(cv2.cvtColor(first_frame, cv2.COLOR_BGR2GRAY))\n",
    "while table.cap.isOpened():\n",
    "    if not ret2:\n",
    "        break\n",
    "    tracker = Tracker()\n",
    "    tracker.track(frame, frame2)\n",
    "    contours = tracker.contours\n",
    "    ccc.append(contours)\n",
    "    cv2.drawContours(frame, contours, -1, (255,0,0), 2)\n",
    "    lists.append(frame)\n",
    "    collision, col_dir, col_pos = check_col(contours)\n",
    "    if collision:\n",
    "        print(col_dir)\n",
    "        print(col_pos)\n",
    "        coll_num += 1\n",
    "        cont = contours[0]\n",
    "        M = cv2.moments(cont)\n",
    "        cx = int(M['m10']/M['m00'])\n",
    "        cy = int(M['m01']/M['m00'])\n",
    "        #print('TRUE')\n",
    "        radius = 20\n",
    "        center = tuple((col_pos[0].ravel() - col_dir[0]*2*radius).astype(np.int32))\n",
    "        #cv2.circle(mask_collision, center, radius, 255, 5)\n",
    "        cv2.ellipse(mask_collision, center, (int(radius*1.25), radius),90,0,360,255,-1)\n",
    "        #cv2.circle(first_frame, tuple((col_pos[0].ravel() + col_dir[0]*2*radius).astype(np.int32)), radius, (255,0,0), 5)\n",
    "        cv2.putText(frame, 'TEI!',(cx-100,cy-100), cv2.FONT_HERSHEY_SIMPLEX, 2, (0,0,255), 5, cv2.LINE_AA)\n",
    "        frames_vid.append(mask_collision)\n",
    "        #cv2.putText(frame, 'TEI!',(100,160), cv2.FONT_HERSHEY_SIMPLEX, 2, (0,0,255), 5, cv2.LINE_AA)\n",
    "    cv2.putText(frame, '#Collisions: {}'.format(coll_num),(130,50), cv2.FONT_HERSHEY_SIMPLEX, 1, (255,255,255), 3, cv2.LINE_AA)\n",
    "    cv2.namedWindow('frame')\n",
    "    cv2.imshow('frame', frame)\n",
    "    \n",
    "    frame = frame2\n",
    "    ret2, frame2 = table.cap.read()\n",
    "    if ret2:\n",
    "        frame2 = cv2.warpPerspective(frame2, homography, size[:2])\n",
    "    #mask = table._get_cloth_mask(frame2)\n",
    "    #mask =  cv2.blur(mask,(2,2))\n",
    "    #frame2 = cv2.bitwise_and(frame2,frame2, mask=mask)\n",
    "    #frames_vid.append(frame2)\n",
    "    #if ret2 is not None:\n",
    "    #frame2 = cv2.warpPerspective(frame2, homography, size[:2])\n",
    "\n",
    "    key = cv2.waitKey(1)\n",
    "    if key == 27:\n",
    "        break\n",
    "cv2.destroyAllWindows()"
   ],
   "outputs": [
    {
     "output_type": "stream",
     "name": "stdout",
     "text": [
      "[array([0.74473519, 0.6673601 ])]\n",
      "[array([[681, 843]], dtype=int32)]\n"
     ]
    }
   ],
   "metadata": {}
  },
  {
   "cell_type": "code",
   "execution_count": 106,
   "source": [
    "cv2.destroyAllWindows()\n"
   ],
   "outputs": [],
   "metadata": {}
  },
  {
   "cell_type": "code",
   "execution_count": 192,
   "source": [
    "def test_colision(table, path = './judd.webm'):\n",
    "    #table = Table('./judd.webm')\n",
    "    cap = cv2.VideoCapture(path)\n",
    "    homography = table.homography\n",
    "    size = table.size\n",
    "\n",
    "    frames_vid = []\n",
    "    lists = []\n",
    "    ret, frame = cap.read()\n",
    "    frame = cv2.warpPerspective(frame, homography, size[:2])\n",
    "\n",
    "    ret2, frame2 = cap.read()\n",
    "    frame2 = cv2.warpPerspective(frame2, homography, size[:2])\n",
    "   \n",
    "    first_frame = frame.copy()\n",
    "    first_frame2 = frame.copy()\n",
    "    coll_num = 0\n",
    "    mask_collision = np.zeros_like(cv2.cvtColor(first_frame, cv2.COLOR_BGR2GRAY))\n",
    "    while table.cap.isOpened():\n",
    "        if not ret2:\n",
    "            break\n",
    "\n",
    "        tracker = Tracker()\n",
    "        tracker.track(frame, frame2)\n",
    "        contours = tracker.contours\n",
    "        \n",
    "        cv2.drawContours(frame, contours, -1, (255,0,0), 2)\n",
    "        lists.append(frame)\n",
    "        collision, col_dir, col_pos = check_col(contours)\n",
    "        color_name = ''\n",
    "        if collision:\n",
    "            print(col_dir)\n",
    "            print(col_pos)\n",
    "            coll_num += 1\n",
    "            cont = contours[0]\n",
    "            M = cv2.moments(cont)\n",
    "            cx = int(M['m10']/M['m00'])\n",
    "            cy = int(M['m01']/M['m00'])\n",
    "            #print('TRUE')\n",
    "            radius = 20\n",
    "            center = tuple((col_pos[0].ravel() - col_dir[0]*2*radius).astype(np.int32))\n",
    "            #cv2.circle(mask_collision, center, radius, 255, 5)\n",
    "            cv2.ellipse(mask_collision, center, (int(radius*1.25), radius),90,0,360,255,-1)\n",
    "            #cv2.circle(first_frame, tuple((col_pos[0].ravel() + col_dir[0]*2*radius).astype(np.int32)), radius, (255,0,0), 5)\n",
    "            cv2.putText(frame, 'TEI!',(cx-100,cy-100), cv2.FONT_HERSHEY_SIMPLEX, 2, (0,0,255), 5, cv2.LINE_AA)\n",
    "            frames_vid.append(mask_collision)\n",
    "            #cv2.putText(frame, 'TEI!',(100,160), cv2.FONT_HERSHEY_SIMPLEX, 2, (0,0,255), 5, cv2.LINE_AA)\n",
    "            \n",
    "            #first_frame2 = cv2.bitwise_and(first_frame2, first_frame2, mask=frames_vid[0])\n",
    "            mask = table._get_cloth_mask(first_frame)\n",
    "            mask = cv2.bitwise_and(mask, mask, mask=mask_collision)\n",
    "            first_frame2 = mask_collision.copy()\n",
    "            ctrs = table._get_ball_contours(mask)\n",
    "            #first_frame2 = cv2.bitwise_and(first_frame2,first_frame2, mask=mask)\n",
    "            for c in ctrs:\n",
    "                font = cv2.FONT_HERSHEY_SIMPLEX\n",
    "                color = table.get_common_color(first_frame, c)\n",
    "                color_name = table.predict_color(color)\n",
    "                print(color_name)\n",
    "                x, y, w, z = cv2.boundingRect(c)\n",
    "                x -= 6\n",
    "                y -= 6\n",
    "                w += 10\n",
    "                z += 10\n",
    "                cv2.putText(first_frame, f'{color_name}' , (x, y-5), font, 0.5, (int(color[0]), int(color[1]), int(color[2])), 2, cv2.LINE_AA)\n",
    "                cv2.rectangle(first_frame, (x, y), (x + w, y + z), (int(color[0]), int(color[1]), int(color[2])), 2)\n",
    "        cv2.putText(frame, '#Collisions: {}'.format(coll_num),(130,50), cv2.FONT_HERSHEY_SIMPLEX, 1, (255,255,255), 3, cv2.LINE_AA)\n",
    "        #cv2.namedWindow('frame')\n",
    "        #cv2.imshow('frame', frame)\n",
    "        \n",
    "        frame = frame2\n",
    "        ret2, frame2 = cap.read()\n",
    "        if ret2:\n",
    "            frame2 = cv2.warpPerspective(frame2, homography, size[:2])\n",
    "        yield (collision, col_pos, col_dir, color_name, first_frame2)\n",
    "        #mask = table._get_cloth_mask(frame2)\n",
    "        #mask =  cv2.blur(mask,(2,2))\n",
    "        #frame2 = cv2.bitwise_and(frame2,frame2, mask=mask)\n",
    "        #frames_vid.append(frame2)\n",
    "        #if ret2 is not None:\n",
    "        #frame2 = cv2.warpPerspective(frame2, homography, size[:2])\n",
    "\n",
    "        #key = cv2.waitKey(1)\n",
    "        #if key == 27:\n",
    "        #    break\n",
    "    #cv2.destroyAllWindows()"
   ],
   "outputs": [],
   "metadata": {}
  },
  {
   "cell_type": "code",
   "execution_count": 193,
   "source": [
    "table = Table('./judd.webm')\n",
    "test = test_colision(table)\n",
    "collision = False\n",
    "while True:\n",
    "    ret, frame = table.cap.read()\n",
    "    if not ret:\n",
    "        break\n",
    "    frame = cv2.warpPerspective(frame, table.homography, table.size)\n",
    "    out = frame.copy()\n",
    "    mask = table._get_cloth_mask(frame)\n",
    "\n",
    "    ctrs = table._get_ball_contours(mask)\n",
    "    if not collision:\n",
    "        collision, col_pos, col_dir, color_name, bu = next(test)\n",
    "        if color_name: print(color_name)\n",
    "    else:\n",
    "        cv2.putText(out, f'Collided with {color_name}',(130,50), cv2.FONT_HERSHEY_SIMPLEX, 1, (255,255,255), 3, cv2.LINE_AA)\n",
    "    #frames.append(out)\n",
    "    cv2.imshow(\"RuiBot\", out)\n",
    "    #i += 1\n",
    "    if cv2.waitKey(1) & 0xFF == ord(\"q\"):\n",
    "        break\n",
    "cv2.destroyAllWindows()"
   ],
   "outputs": [
    {
     "output_type": "stream",
     "name": "stdout",
     "text": [
      "[array([0.74473519, 0.6673601 ])]\n",
      "[array([[681, 843]], dtype=int32)]\n",
      "Red\n",
      "Red\n"
     ]
    }
   ],
   "metadata": {}
  },
  {
   "cell_type": "code",
   "execution_count": 194,
   "source": [
    "i3show(bu)"
   ],
   "outputs": [],
   "metadata": {}
  },
  {
   "cell_type": "code",
   "execution_count": 183,
   "source": [
    "cv2.destroyAllWindows()"
   ],
   "outputs": [],
   "metadata": {}
  },
  {
   "cell_type": "code",
   "execution_count": 144,
   "source": [
    "first_frame2 = first_frame.copy()\n",
    "#first_frame2 = cv2.bitwise_and(first_frame2, first_frame2, mask=frames_vid[0])\n",
    "mask = table._get_cloth_mask(first_frame2)\n",
    "mask = cv2.bitwise_and(mask, mask, mask=frames_vid[0])\n",
    "ctrs = table._get_ball_contours(mask)\n",
    "#first_frame2 = cv2.bitwise_and(first_frame2,first_frame2, mask=mask)\n",
    "for c in ctrs:\n",
    "    font = cv2.FONT_HERSHEY_SIMPLEX\n",
    "    color = table.get_common_color(first_frame2, c)\n",
    "    color_name = table.predict_color(color)\n",
    "\n",
    "    x, y, w, z = cv2.boundingRect(c)\n",
    "    x -= 6\n",
    "    y -= 6\n",
    "    w += 10\n",
    "    z += 10\n",
    "    cv2.putText(first_frame2, f'{color_name}' , (x, y-5), font, 0.5, (int(color[0]), int(color[1]), int(color[2])), 2, cv2.LINE_AA)\n",
    "    cv2.rectangle(first_frame2, (x, y), (x + w, y + z), (int(color[0]), int(color[1]), int(color[2])), 2)\n",
    "#first_frame2 = cv2.bitwise_and(first_frame2,first_frame2, mask=mask)\n",
    "\n",
    "i3show(first_frame2)"
   ],
   "outputs": [],
   "metadata": {}
  },
  {
   "cell_type": "code",
   "execution_count": 117,
   "source": [
    "frames_vid[0].shape"
   ],
   "outputs": [
    {
     "output_type": "execute_result",
     "data": {
      "text/plain": [
       "(1000, 800, 3)"
      ]
     },
     "metadata": {},
     "execution_count": 117
    }
   ],
   "metadata": {}
  },
  {
   "cell_type": "code",
   "execution_count": 55,
   "source": [
    "def i3show(img, win_name = 'Image'):\n",
    "    cv2.namedWindow(win_name, cv2.WINDOW_NORMAL)\n",
    "    cv2.imshow(win_name, img)\n",
    "    while cv2.waitKey(0) != ord('q'):\n",
    "        pass\n",
    "    cv2.destroyAllWindows()"
   ],
   "outputs": [],
   "metadata": {}
  },
  {
   "cell_type": "code",
   "execution_count": 76,
   "source": [
    "table = Table('./judd.webm')\n",
    "homography = table.homography\n",
    "size = table.size\n",
    "ccc = []\n",
    "\n",
    "frames_vid = []\n",
    "lists = []\n",
    "ret, frame = table.cap.read()\n",
    "frame = cv2.warpPerspective(frame, homography, size[:2])\n",
    "mask = table._get_cloth_mask(frame)\n",
    "#mask =  cv2.blur(mask,(3,3))\n",
    "frame = cv2.bitwise_and(frame,frame, mask=mask)\n",
    "ret2, frame2 = table.cap.read()\n",
    "frame2 = cv2.warpPerspective(frame2, homography, size[:2])\n",
    "mask = table._get_cloth_mask(frame2)\n",
    "#mask =  cv2.blur(mask,(3,3))\n",
    "frame2 = cv2.bitwise_and(frame2,frame2, mask=mask)\n",
    "i3show(frame2)"
   ],
   "outputs": [],
   "metadata": {}
  },
  {
   "cell_type": "code",
   "execution_count": 59,
   "source": [
    "def saveVideo(frames, size=(640, 480), name='output', fps=1):\n",
    "    fourcc = cv2.VideoWriter_fourcc(*'mp4v')\n",
    "    out = cv2.VideoWriter(name+'.mp4', fourcc, fps, (frames[0].shape[1], frames[0].shape[0]))\n",
    "    for frame in frames:\n",
    "        out.write(frame)\n",
    "    out.release()"
   ],
   "outputs": [],
   "metadata": {}
  },
  {
   "cell_type": "code",
   "execution_count": 60,
   "source": [
    "saveVideo(frames_vid, name = 'clothless', fps=30)"
   ],
   "outputs": [],
   "metadata": {}
  },
  {
   "cell_type": "code",
   "execution_count": 104,
   "source": [
    "table.size"
   ],
   "outputs": [
    {
     "output_type": "execute_result",
     "data": {
      "text/plain": [
       "(800, 1000)"
      ]
     },
     "metadata": {},
     "execution_count": 104
    }
   ],
   "metadata": {}
  },
  {
   "cell_type": "code",
   "execution_count": 65,
   "source": [
    "check_col(a)"
   ],
   "outputs": [
    {
     "output_type": "execute_result",
     "data": {
      "text/plain": [
       "True"
      ]
     },
     "metadata": {},
     "execution_count": 65
    }
   ],
   "metadata": {}
  },
  {
   "cell_type": "code",
   "execution_count": 6,
   "source": [
    "a = np.array([4, 7])\n",
    "b = np.array([1,3])\n",
    "c = a-b\n",
    "c = c/np.linalg.norm(c)\n",
    "print(c)"
   ],
   "outputs": [
    {
     "output_type": "stream",
     "name": "stdout",
     "text": [
      "[0.6 0.8]\n"
     ]
    }
   ],
   "metadata": {}
  },
  {
   "cell_type": "code",
   "execution_count": 219,
   "source": [
    "def order_points(points):\n",
    "    center = np.mean(points)\n",
    "    shifted = points - center\n",
    "    theta = np.arctan2(shifted[:, 0], shifted[:, 1])\n",
    "    ind = np.argsort(theta)\n",
    "    return points[ind]\n",
    "\n",
    "fname = \"./judd.webm\"\n",
    "cap = cv2.VideoCapture(fname)\n",
    "cap_size = (int(cap.get(3)), int(cap.get(4)))\n",
    "size = (800, 1000)\n",
    "ret, frame = cap.read()\n",
    "\n",
    "src = cv2.cvtColor(frame, cv2.COLOR_BGR2GRAY)\n",
    "dst = cv2.Canny(src, 50, 100, None, 3)\n",
    "blur = cv2.GaussianBlur(src,(5,5),0)\n",
    "ret3,th3 = cv2.threshold(blur,0,255,cv2.THRESH_BINARY+cv2.THRESH_OTSU)\n",
    "cnts = cv2.findContours(th3, cv2.RETR_EXTERNAL, cv2.CHAIN_APPROX_NONE)\n",
    "    #contours, hierarchy = cv2.findContours(th3, cv2.RETR_EXTERNAL, cv2.CHAIN_APPROX_NONE)\n",
    "    #cv2.drawContours(image=image_copy, contours=contours, contourIdx=-1, color=(0, 255, 0), thickness=2, lineType=cv2.LINE_AA)\n",
    "image_copy2 = frame.copy()\n",
    "cnts = cnts[0]\n",
    "cv2.drawContours(image=image_copy2, contours=cnts, contourIdx=-1, color=(0, 0, 255), thickness=4, lineType=cv2.LINE_AA) \n",
    "image_copy = frame.copy()\n",
    "image_copy3 = frame.copy()\n",
    "    # Find the contour with the maximum area.\n",
    "c = max(cnts, key=cv2.contourArea)\n",
    "cv2.drawContours(image=image_copy3, contours=c, contourIdx=-1, color=(0, 0, 255), thickness=4, lineType=cv2.LINE_AA) \n",
    "c = cv2.approxPolyDP(c, 0.02 * cv2.arcLength(c, True), True)\n",
    "cv2.drawContours(image=image_copy, contours=c, contourIdx=-1, color=(0, 0, 255), thickness=20, lineType=cv2.LINE_AA)\n",
    "pts_dst = np.array(\n",
    "            [[0, 0], [size[0] - 1, 0], [size[0] - 1, size[1] - 1], [0, size[1] - 1]],\n",
    "            dtype=float,\n",
    "        )\n",
    "corners = order_points(c[:, 0])\n",
    "pts_dst = order_points(pts_dst)\n",
    "h, _ = cv2.findHomography(corners, pts_dst)\n",
    "final_img = cv2.warpPerspective(frame, h, size)\n",
    "aux = cv2.copyMakeBorder(final_img, 40, 40, 10, 10, cv2.BORDER_CONSTANT,value=[255,255,255])\n",
    "#lines = cv2.HoughLinesP(th3, 1, np.pi / 180, 150, None, 0, 0)\n",
    "#for line in lines:\n",
    "#\t    x1, y1, x2, y2 = line[0]\n",
    "#\t    cv2.line(frame, (x1, y1), (x2, y2), (255, 0, 0), 3)\n",
    "#cv2.namedWindow('Result Image', cv2.WINDOW_NORMAL)\n",
    "vid_test = [frame, cv2.cvtColor(src, cv2.COLOR_GRAY2BGR), cv2.cvtColor(blur, cv2.COLOR_GRAY2BGR), cv2.cvtColor(th3, cv2.COLOR_GRAY2BGR), image_copy2, image_copy3, image_copy, aux]\n",
    "cv2.namedWindow('Result Image', cv2.WINDOW_NORMAL)\n",
    "cv2.imshow(\"Result Image\", final_img)\n",
    "while cv2.waitKey(0) != ord('q'):\n",
    "        pass\n",
    "cv2.destroyAllWindows()"
   ],
   "outputs": [],
   "metadata": {}
  },
  {
   "cell_type": "code",
   "execution_count": 200,
   "source": [
    "print(final_img.shape)\n",
    "frame.shape"
   ],
   "outputs": [
    {
     "output_type": "stream",
     "name": "stdout",
     "text": [
      "(1000, 800, 3)\n"
     ]
    },
    {
     "output_type": "execute_result",
     "data": {
      "text/plain": [
       "(1080, 1920, 3)"
      ]
     },
     "metadata": {},
     "execution_count": 200
    }
   ],
   "metadata": {}
  },
  {
   "cell_type": "code",
   "execution_count": 228,
   "source": [
    "table = Table('./judd.webm')\n",
    "listass = []\n",
    "size = table.size\n",
    "homography = table.homography\n",
    "_, frame = table.cap.read()\n",
    "frame = cv2.warpPerspective(frame, homography, size[:2])\n",
    "mask = table._get_cloth_mask(frame)\n",
    "ctrs = table._get_ball_contours(mask)\n",
    "\n",
    "frame2 = cv2.bitwise_and(frame,frame, mask=mask)\n",
    "cv2.drawContours(frame2, ctrs,-1, (255,0,0), 2)\n",
    "listass.append(frame)\n",
    "listass.append(frame2)"
   ],
   "outputs": [],
   "metadata": {}
  },
  {
   "cell_type": "code",
   "execution_count": 229,
   "source": [
    "pad = np.full((1000, 20,3), 255).astype(np.uint8)\n",
    "test_img2 = np.hstack([listass[0], pad ,listass[1]])\n",
    "i3show(frame2)"
   ],
   "outputs": [],
   "metadata": {}
  },
  {
   "cell_type": "code",
   "execution_count": 215,
   "source": [
    "cv2.destroyAllWindows()"
   ],
   "outputs": [],
   "metadata": {}
  },
  {
   "cell_type": "code",
   "execution_count": null,
   "source": [],
   "outputs": [],
   "metadata": {}
  }
 ],
 "metadata": {
  "orig_nbformat": 4,
  "language_info": {
   "name": "python",
   "version": "3.9.6",
   "mimetype": "text/x-python",
   "codemirror_mode": {
    "name": "ipython",
    "version": 3
   },
   "pygments_lexer": "ipython3",
   "nbconvert_exporter": "python",
   "file_extension": ".py"
  },
  "kernelspec": {
   "name": "python3",
   "display_name": "Python 3.9.6 64-bit"
  },
  "interpreter": {
   "hash": "e7370f93d1d0cde622a1f8e1c04877d8463912d04d973331ad4851f04de6915a"
  }
 },
 "nbformat": 4,
 "nbformat_minor": 2
}